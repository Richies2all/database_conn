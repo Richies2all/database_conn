{
 "cells": [
  {
   "cell_type": "code",
   "execution_count": 1,
   "id": "5aee1245",
   "metadata": {},
   "outputs": [
    {
     "data": {
      "text/html": [
       "<style>.container { width:100% !important; }</style>"
      ],
      "text/plain": [
       "<IPython.core.display.HTML object>"
      ]
     },
     "metadata": {},
     "output_type": "display_data"
    }
   ],
   "source": [
    "import pandas as pd\n",
    "import matplotlib.pyplot as plt\n",
    "\n",
    "import sqlalchemy\n",
    "from sqlalchemy import create_engine, Table, MetaData, select, and_, desc, func, case, cast, Float\n",
    "from sqlalchemy import Column, String, Integer, Boolean, insert, update, delete\n",
    "\n",
    "import pymysql\n",
    "import psycopg2\n",
    "import pyodbc\n",
    "\n",
    "import json\n",
    "\n",
    "from pprint import pprint as pp\n",
    "import csv\n",
    "\n",
    "pd.set_option(\"display.max_columns\", None)\n",
    "pd.set_option(\"display.max_rows\", None)\n",
    "pd.options.display.max_colwidth = None\n",
    "pd.set_option(\"display.float_format\", lambda x: '%.2f' % x)\n",
    "\n",
    "from IPython.display import display, HTML\n",
    "display(HTML(\"<style>.container { width:100% !important; }</style>\"))"
   ]
  },
  {
   "cell_type": "code",
   "execution_count": 2,
   "id": "9b4ade17",
   "metadata": {},
   "outputs": [
    {
     "data": {
      "text/plain": [
       "'2.0.6'"
      ]
     },
     "execution_count": 2,
     "metadata": {},
     "output_type": "execute_result"
    }
   ],
   "source": [
    "sqlalchemy.__version__"
   ]
  },
  {
   "cell_type": "code",
   "execution_count": 3,
   "id": "0306efae",
   "metadata": {},
   "outputs": [
    {
     "data": {
      "text/plain": [
       "'4.0.35'"
      ]
     },
     "execution_count": 3,
     "metadata": {},
     "output_type": "execute_result"
    }
   ],
   "source": [
    "pyodbc.version"
   ]
  },
  {
   "cell_type": "code",
   "execution_count": null,
   "id": "124fb4d6",
   "metadata": {},
   "outputs": [],
   "source": []
  },
  {
   "cell_type": "markdown",
   "id": "f327104c",
   "metadata": {},
   "source": [
    "## Getting Credentials"
   ]
  },
  {
   "cell_type": "code",
   "execution_count": 4,
   "id": "17286a7e",
   "metadata": {},
   "outputs": [],
   "source": [
    "test_postgres_file_path = \"credentials/demo_test_postgres.json\"\n",
    "hackerman_file_path = \"credentials/test_postgressql.json\""
   ]
  },
  {
   "cell_type": "code",
   "execution_count": 5,
   "id": "679479c3",
   "metadata": {},
   "outputs": [],
   "source": [
    "with open(test_postgres_file_path) as f:\n",
    "    json_file = json.load(f)"
   ]
  },
  {
   "cell_type": "code",
   "execution_count": 6,
   "id": "be468188",
   "metadata": {},
   "outputs": [],
   "source": [
    "def load_json(file_path):\n",
    "    \"\"\" Loads json files \"\"\"\n",
    "    try:\n",
    "        with open(file_path) as f:\n",
    "            json_file = json.load(f)\n",
    "            return json_file\n",
    "    except Exception as e:\n",
    "        print(str(e))"
   ]
  },
  {
   "cell_type": "code",
   "execution_count": 7,
   "id": "7037ce03",
   "metadata": {},
   "outputs": [],
   "source": [
    "new_postgres_credential = load_json(test_postgres_file_path)\n",
    "db_credentials = load_json(hackerman_file_path)"
   ]
  },
  {
   "cell_type": "markdown",
   "id": "b5f0f5da",
   "metadata": {},
   "source": [
    "### Data Ingestion"
   ]
  },
  {
   "cell_type": "code",
   "execution_count": 8,
   "id": "d9fe7878",
   "metadata": {},
   "outputs": [],
   "source": [
    "census_data = 'data/census.csv'"
   ]
  },
  {
   "cell_type": "code",
   "execution_count": 9,
   "id": "98686988",
   "metadata": {},
   "outputs": [],
   "source": [
    "census_sql_data = 'data/census.sqlite'"
   ]
  },
  {
   "cell_type": "code",
   "execution_count": 10,
   "id": "580a4e18",
   "metadata": {},
   "outputs": [],
   "source": [
    "employee_sql_data = 'data/employees.sqlite'"
   ]
  },
  {
   "cell_type": "markdown",
   "id": "e5b66b5c",
   "metadata": {},
   "source": [
    "## SQLite"
   ]
  },
  {
   "cell_type": "code",
   "execution_count": 11,
   "id": "e3830369",
   "metadata": {},
   "outputs": [],
   "source": [
    "from sqlalchemy import create_engine"
   ]
  },
  {
   "cell_type": "code",
   "execution_count": 12,
   "id": "d5f8757f",
   "metadata": {},
   "outputs": [],
   "source": [
    "engine = create_engine('sqlite:///data/census.sqlite')\n",
    "connection = engine.connect()"
   ]
  },
  {
   "cell_type": "markdown",
   "id": "14823a95",
   "metadata": {},
   "source": [
    "## PostgresSQL"
   ]
  },
  {
   "cell_type": "code",
   "execution_count": 13,
   "id": "ea771963",
   "metadata": {},
   "outputs": [],
   "source": [
    "import psycopg2"
   ]
  },
  {
   "cell_type": "code",
   "execution_count": 14,
   "id": "bf306655",
   "metadata": {},
   "outputs": [],
   "source": [
    "# Connect to an existing database\n",
    "# conn = psycopg2.connect(\"dbname=test user=postgres\")"
   ]
  },
  {
   "cell_type": "code",
   "execution_count": 15,
   "id": "e4d11be2",
   "metadata": {},
   "outputs": [],
   "source": [
    "datahackerman_connection = psycopg2.connect(\n",
    "    dbname= db_credentials[\"database\"],\n",
    "    user= db_credentials[\"username\"],\n",
    "    password=db_credentials[\"password\"],\n",
    "    host=db_credentials[\"host\"],\n",
    "    port=db_credentials[\"port\"]\n",
    "\n",
    ")"
   ]
  },
  {
   "cell_type": "code",
   "execution_count": 16,
   "id": "63b0f74d",
   "metadata": {},
   "outputs": [
    {
     "data": {
      "text/plain": [
       "<connection object at 0x000002B108AC3480; dsn: 'user=hackerman password=xxx dbname=free_hackerman host=freetier-hackerman.c9gajtac8ssy.eu-west-2.rds.amazonaws.com port=5432', closed: 0>"
      ]
     },
     "execution_count": 16,
     "metadata": {},
     "output_type": "execute_result"
    }
   ],
   "source": [
    "datahackerman_connection"
   ]
  },
  {
   "cell_type": "code",
   "execution_count": null,
   "id": "2916ea91",
   "metadata": {},
   "outputs": [],
   "source": []
  },
  {
   "cell_type": "code",
   "execution_count": 17,
   "id": "ad02a691",
   "metadata": {},
   "outputs": [],
   "source": [
    "datahackerman_cur = datahackerman_connection.cursor()"
   ]
  },
  {
   "cell_type": "code",
   "execution_count": 18,
   "id": "de3fa9d8",
   "metadata": {},
   "outputs": [],
   "source": [
    "datahackerman_cur.execute(\"SELECT * FROM Books LIMIT 5\")"
   ]
  },
  {
   "cell_type": "code",
   "execution_count": 19,
   "id": "ff27ba84",
   "metadata": {},
   "outputs": [
    {
     "data": {
      "text/plain": [
       "(81490378501273,\n",
       " 'Leslie Godwin',\n",
       " 292,\n",
       " '1985-11-30',\n",
       " 7,\n",
       " 'Religious',\n",
       " 'wispy Hiawatha Midwestern prolix sanitarium aloe')"
      ]
     },
     "execution_count": 19,
     "metadata": {},
     "output_type": "execute_result"
    }
   ],
   "source": [
    "datahackerman_cur.fetchone()"
   ]
  },
  {
   "cell_type": "code",
   "execution_count": 20,
   "id": "7d2ae186",
   "metadata": {},
   "outputs": [],
   "source": [
    "# Make the changes to the database persistent\n",
    "datahackerman_connection.commit()\n",
    "# Close communication with the database\n",
    "datahackerman_cur.close()\n",
    "datahackerman_connection.close()\n"
   ]
  },
  {
   "cell_type": "markdown",
   "id": "0ef86620",
   "metadata": {},
   "source": [
    "#### Getting data in Tabular form"
   ]
  },
  {
   "cell_type": "code",
   "execution_count": 21,
   "id": "a884110b",
   "metadata": {},
   "outputs": [],
   "source": [
    "def get_data_postgress_raw(query_string, db_credentials):\n",
    "    connection = psycopg2.connect(\n",
    "        dbname= db_credentials[\"database\"],\n",
    "        user= db_credentials[\"username\"],\n",
    "        password=db_credentials[\"password\"],\n",
    "        host=db_credentials[\"host\"],\n",
    "        port=db_credentials[\"port\"]\n",
    "    )\n",
    "    \n",
    "    cursor = connection.cursor()\n",
    "    cursor.execute(query_string)\n",
    "    \n",
    "    #print(cursor.fetchone())\n",
    "    \n",
    "    result = cursor.fetchall()\n",
    "    \n",
    "    connection.commit()\n",
    "    \n",
    "    connection.close()\n",
    "    cursor.close()\n",
    "    \n",
    "    return result"
   ]
  },
  {
   "cell_type": "code",
   "execution_count": 22,
   "id": "22513e3f",
   "metadata": {},
   "outputs": [],
   "source": [
    "query_string = \"\"\"\n",
    "SELECT * FROM Books\n",
    "\"\"\""
   ]
  },
  {
   "cell_type": "code",
   "execution_count": 23,
   "id": "1712cbfb",
   "metadata": {},
   "outputs": [],
   "source": [
    "# get_data_postgress_raw(query_string, db_credentials)"
   ]
  },
  {
   "cell_type": "code",
   "execution_count": 24,
   "id": "d5b6693a",
   "metadata": {},
   "outputs": [],
   "source": [
    "book_data = get_data_postgress_raw(query_string, db_credentials)"
   ]
  },
  {
   "cell_type": "code",
   "execution_count": 25,
   "id": "1072df55",
   "metadata": {},
   "outputs": [
    {
     "data": {
      "text/plain": [
       "2999"
      ]
     },
     "execution_count": 25,
     "metadata": {},
     "output_type": "execute_result"
    }
   ],
   "source": [
    "len(book_data)"
   ]
  },
  {
   "cell_type": "code",
   "execution_count": 26,
   "id": "06ffc2bc",
   "metadata": {},
   "outputs": [
    {
     "data": {
      "text/plain": [
       "[(81490378501273,\n",
       "  'Leslie Godwin',\n",
       "  292,\n",
       "  '1985-11-30',\n",
       "  7,\n",
       "  'Religious',\n",
       "  'wispy Hiawatha Midwestern prolix sanitarium aloe'),\n",
       " (2265183237865,\n",
       "  'Theresa Scruggs',\n",
       "  51,\n",
       "  '1922-02-15',\n",
       "  30,\n",
       "  'SciFi',\n",
       "  'deterrent someday indent decennial'),\n",
       " (38355930389954,\n",
       "  'Elaine Turner',\n",
       "  51,\n",
       "  '1990-02-27',\n",
       "  30,\n",
       "  'Religious Novels',\n",
       "  'aquatic certificate flatus flowery slack'),\n",
       " (12676076159906,\n",
       "  'Claretta Dewitt',\n",
       "  308,\n",
       "  '1988-06-23',\n",
       "  7,\n",
       "  'HISTORICAL',\n",
       "  'pre scald pillage minor incomputable'),\n",
       " (17366175799537,\n",
       "  'Douglas Barrio',\n",
       "  243,\n",
       "  '1961-01-29',\n",
       "  30,\n",
       "  'Fantasy',\n",
       "  'hateful division Malagasy'),\n",
       " (94390875304793,\n",
       "  'Donald Hoes',\n",
       "  283,\n",
       "  '1927-03-13',\n",
       "  30,\n",
       "  'pop science',\n",
       "  'Shaffer deodorant torn armload giantess trident'),\n",
       " (59564182657149,\n",
       "  'Sherri Campos',\n",
       "  192,\n",
       "  '1916-08-11',\n",
       "  30,\n",
       "  'SHORT-STORIES',\n",
       "  'conserve aerate diatomic prognosticate melange'),\n",
       " (78141158410406,\n",
       "  'Gerald Hundley',\n",
       "  183,\n",
       "  '1928-01-07',\n",
       "  30,\n",
       "  'SHORT STORIES',\n",
       "  'Dolores zing Galveston Minoan davit'),\n",
       " (86413140521812,\n",
       "  'Sara Hammond',\n",
       "  485,\n",
       "  '1955-03-01',\n",
       "  7,\n",
       "  'mystery',\n",
       "  'inquiry official biotite ablution rodent Dan'),\n",
       " (30958141877211,\n",
       "  'Alexandra Sandoval',\n",
       "  330,\n",
       "  '1919-07-15',\n",
       "  30,\n",
       "  'Fantasy',\n",
       "  'Peggy Peruvian rhinoceros miscible speakeasy Wallis')]"
      ]
     },
     "execution_count": 26,
     "metadata": {},
     "output_type": "execute_result"
    }
   ],
   "source": [
    "book_data[0:10]"
   ]
  },
  {
   "cell_type": "code",
   "execution_count": 27,
   "id": "44ea28de",
   "metadata": {},
   "outputs": [
    {
     "data": {
      "text/html": [
       "<div>\n",
       "<style scoped>\n",
       "    .dataframe tbody tr th:only-of-type {\n",
       "        vertical-align: middle;\n",
       "    }\n",
       "\n",
       "    .dataframe tbody tr th {\n",
       "        vertical-align: top;\n",
       "    }\n",
       "\n",
       "    .dataframe thead th {\n",
       "        text-align: right;\n",
       "    }\n",
       "</style>\n",
       "<table border=\"1\" class=\"dataframe\">\n",
       "  <thead>\n",
       "    <tr style=\"text-align: right;\">\n",
       "      <th></th>\n",
       "      <th>0</th>\n",
       "      <th>1</th>\n",
       "      <th>2</th>\n",
       "      <th>3</th>\n",
       "      <th>4</th>\n",
       "      <th>5</th>\n",
       "      <th>6</th>\n",
       "    </tr>\n",
       "  </thead>\n",
       "  <tbody>\n",
       "    <tr>\n",
       "      <th>0</th>\n",
       "      <td>81490378501273</td>\n",
       "      <td>Leslie Godwin</td>\n",
       "      <td>292</td>\n",
       "      <td>1985-11-30</td>\n",
       "      <td>7</td>\n",
       "      <td>Religious</td>\n",
       "      <td>wispy Hiawatha Midwestern prolix sanitarium aloe</td>\n",
       "    </tr>\n",
       "    <tr>\n",
       "      <th>1</th>\n",
       "      <td>2265183237865</td>\n",
       "      <td>Theresa Scruggs</td>\n",
       "      <td>51</td>\n",
       "      <td>1922-02-15</td>\n",
       "      <td>30</td>\n",
       "      <td>SciFi</td>\n",
       "      <td>deterrent someday indent decennial</td>\n",
       "    </tr>\n",
       "    <tr>\n",
       "      <th>2</th>\n",
       "      <td>38355930389954</td>\n",
       "      <td>Elaine Turner</td>\n",
       "      <td>51</td>\n",
       "      <td>1990-02-27</td>\n",
       "      <td>30</td>\n",
       "      <td>Religious Novels</td>\n",
       "      <td>aquatic certificate flatus flowery slack</td>\n",
       "    </tr>\n",
       "    <tr>\n",
       "      <th>3</th>\n",
       "      <td>12676076159906</td>\n",
       "      <td>Claretta Dewitt</td>\n",
       "      <td>308</td>\n",
       "      <td>1988-06-23</td>\n",
       "      <td>7</td>\n",
       "      <td>HISTORICAL</td>\n",
       "      <td>pre scald pillage minor incomputable</td>\n",
       "    </tr>\n",
       "    <tr>\n",
       "      <th>4</th>\n",
       "      <td>17366175799537</td>\n",
       "      <td>Douglas Barrio</td>\n",
       "      <td>243</td>\n",
       "      <td>1961-01-29</td>\n",
       "      <td>30</td>\n",
       "      <td>Fantasy</td>\n",
       "      <td>hateful division Malagasy</td>\n",
       "    </tr>\n",
       "    <tr>\n",
       "      <th>5</th>\n",
       "      <td>94390875304793</td>\n",
       "      <td>Donald Hoes</td>\n",
       "      <td>283</td>\n",
       "      <td>1927-03-13</td>\n",
       "      <td>30</td>\n",
       "      <td>pop science</td>\n",
       "      <td>Shaffer deodorant torn armload giantess trident</td>\n",
       "    </tr>\n",
       "    <tr>\n",
       "      <th>6</th>\n",
       "      <td>59564182657149</td>\n",
       "      <td>Sherri Campos</td>\n",
       "      <td>192</td>\n",
       "      <td>1916-08-11</td>\n",
       "      <td>30</td>\n",
       "      <td>SHORT-STORIES</td>\n",
       "      <td>conserve aerate diatomic prognosticate melange</td>\n",
       "    </tr>\n",
       "    <tr>\n",
       "      <th>7</th>\n",
       "      <td>78141158410406</td>\n",
       "      <td>Gerald Hundley</td>\n",
       "      <td>183</td>\n",
       "      <td>1928-01-07</td>\n",
       "      <td>30</td>\n",
       "      <td>SHORT STORIES</td>\n",
       "      <td>Dolores zing Galveston Minoan davit</td>\n",
       "    </tr>\n",
       "    <tr>\n",
       "      <th>8</th>\n",
       "      <td>86413140521812</td>\n",
       "      <td>Sara Hammond</td>\n",
       "      <td>485</td>\n",
       "      <td>1955-03-01</td>\n",
       "      <td>7</td>\n",
       "      <td>mystery</td>\n",
       "      <td>inquiry official biotite ablution rodent Dan</td>\n",
       "    </tr>\n",
       "    <tr>\n",
       "      <th>9</th>\n",
       "      <td>30958141877211</td>\n",
       "      <td>Alexandra Sandoval</td>\n",
       "      <td>330</td>\n",
       "      <td>1919-07-15</td>\n",
       "      <td>30</td>\n",
       "      <td>Fantasy</td>\n",
       "      <td>Peggy Peruvian rhinoceros miscible speakeasy Wallis</td>\n",
       "    </tr>\n",
       "  </tbody>\n",
       "</table>\n",
       "</div>"
      ],
      "text/plain": [
       "                0                   1    2           3   4                 5  \\\n",
       "0  81490378501273       Leslie Godwin  292  1985-11-30   7         Religious   \n",
       "1   2265183237865     Theresa Scruggs   51  1922-02-15  30             SciFi   \n",
       "2  38355930389954       Elaine Turner   51  1990-02-27  30  Religious Novels   \n",
       "3  12676076159906     Claretta Dewitt  308  1988-06-23   7        HISTORICAL   \n",
       "4  17366175799537      Douglas Barrio  243  1961-01-29  30           Fantasy   \n",
       "5  94390875304793         Donald Hoes  283  1927-03-13  30       pop science   \n",
       "6  59564182657149       Sherri Campos  192  1916-08-11  30     SHORT-STORIES   \n",
       "7  78141158410406      Gerald Hundley  183  1928-01-07  30     SHORT STORIES   \n",
       "8  86413140521812        Sara Hammond  485  1955-03-01   7           mystery   \n",
       "9  30958141877211  Alexandra Sandoval  330  1919-07-15  30           Fantasy   \n",
       "\n",
       "                                                     6  \n",
       "0     wispy Hiawatha Midwestern prolix sanitarium aloe  \n",
       "1                   deterrent someday indent decennial  \n",
       "2             aquatic certificate flatus flowery slack  \n",
       "3                 pre scald pillage minor incomputable  \n",
       "4                            hateful division Malagasy  \n",
       "5      Shaffer deodorant torn armload giantess trident  \n",
       "6       conserve aerate diatomic prognosticate melange  \n",
       "7                  Dolores zing Galveston Minoan davit  \n",
       "8         inquiry official biotite ablution rodent Dan  \n",
       "9  Peggy Peruvian rhinoceros miscible speakeasy Wallis  "
      ]
     },
     "execution_count": 27,
     "metadata": {},
     "output_type": "execute_result"
    }
   ],
   "source": [
    "pd.DataFrame(book_data[0:10])"
   ]
  },
  {
   "cell_type": "markdown",
   "id": "2fb01d79",
   "metadata": {},
   "source": [
    "#### Use ´pandas.read_sql´\n",
    "###### https://pandas.pydata.org/docs/reference/api/pandas.read_sql.html"
   ]
  },
  {
   "cell_type": "code",
   "execution_count": 28,
   "id": "21f78741",
   "metadata": {},
   "outputs": [],
   "source": [
    "datahackerman_connection = psycopg2.connect(\n",
    "    dbname= db_credentials[\"database\"],\n",
    "    user= db_credentials[\"username\"],\n",
    "    password=db_credentials[\"password\"],\n",
    "    host=db_credentials[\"host\"],\n",
    "    port=db_credentials[\"port\"]\n",
    "\n",
    ")"
   ]
  },
  {
   "cell_type": "code",
   "execution_count": 29,
   "id": "392162f3",
   "metadata": {},
   "outputs": [],
   "source": [
    "query_string = \"\"\"\n",
    "SELECT * FROM rentals\n",
    "\"\"\""
   ]
  },
  {
   "cell_type": "code",
   "execution_count": 30,
   "id": "2eac578c",
   "metadata": {},
   "outputs": [
    {
     "name": "stderr",
     "output_type": "stream",
     "text": [
      "<timed exec>:1: UserWarning: pandas only supports SQLAlchemy connectable (engine/connection) or database string URI or sqlite3 DBAPI2 connection. Other DBAPI2 objects are not tested. Please consider using SQLAlchemy.\n"
     ]
    },
    {
     "name": "stdout",
     "output_type": "stream",
     "text": [
      "CPU times: total: 1.39 s\n",
      "Wall time: 15.5 s\n"
     ]
    }
   ],
   "source": [
    "%%time\n",
    "rentals_data = pd.read_sql(query_string, datahackerman_connection)"
   ]
  },
  {
   "cell_type": "code",
   "execution_count": 31,
   "id": "658ce9a1",
   "metadata": {},
   "outputs": [
    {
     "data": {
      "text/html": [
       "<div>\n",
       "<style scoped>\n",
       "    .dataframe tbody tr th:only-of-type {\n",
       "        vertical-align: middle;\n",
       "    }\n",
       "\n",
       "    .dataframe tbody tr th {\n",
       "        vertical-align: top;\n",
       "    }\n",
       "\n",
       "    .dataframe thead th {\n",
       "        text-align: right;\n",
       "    }\n",
       "</style>\n",
       "<table border=\"1\" class=\"dataframe\">\n",
       "  <thead>\n",
       "    <tr style=\"text-align: right;\">\n",
       "      <th></th>\n",
       "      <th>UID</th>\n",
       "      <th>book</th>\n",
       "      <th>borrower</th>\n",
       "      <th>out</th>\n",
       "      <th>returned</th>\n",
       "    </tr>\n",
       "  </thead>\n",
       "  <tbody>\n",
       "    <tr>\n",
       "      <th>0</th>\n",
       "      <td>76609620900561</td>\n",
       "      <td>37305790289730</td>\n",
       "      <td>88833280729411</td>\n",
       "      <td>2017-06-29</td>\n",
       "      <td>2017-07-17</td>\n",
       "    </tr>\n",
       "    <tr>\n",
       "      <th>1</th>\n",
       "      <td>83114291920228</td>\n",
       "      <td>1253436612142</td>\n",
       "      <td>88833280729411</td>\n",
       "      <td>2009-11-29</td>\n",
       "      <td>2009-12-16</td>\n",
       "    </tr>\n",
       "    <tr>\n",
       "      <th>2</th>\n",
       "      <td>88537859878214</td>\n",
       "      <td>92083778372643</td>\n",
       "      <td>88833280729411</td>\n",
       "      <td>2015-05-15</td>\n",
       "      <td>2015-06-09</td>\n",
       "    </tr>\n",
       "    <tr>\n",
       "      <th>3</th>\n",
       "      <td>75410000220725</td>\n",
       "      <td>51049394513918</td>\n",
       "      <td>88833280729411</td>\n",
       "      <td>2014-09-15</td>\n",
       "      <td>2014-10-04</td>\n",
       "    </tr>\n",
       "    <tr>\n",
       "      <th>4</th>\n",
       "      <td>32824255130354</td>\n",
       "      <td>14360217402682</td>\n",
       "      <td>88833280729411</td>\n",
       "      <td>2012-06-12</td>\n",
       "      <td>2012-06-20</td>\n",
       "    </tr>\n",
       "  </tbody>\n",
       "</table>\n",
       "</div>"
      ],
      "text/plain": [
       "              UID            book        borrower         out    returned\n",
       "0  76609620900561  37305790289730  88833280729411  2017-06-29  2017-07-17\n",
       "1  83114291920228   1253436612142  88833280729411  2009-11-29  2009-12-16\n",
       "2  88537859878214  92083778372643  88833280729411  2015-05-15  2015-06-09\n",
       "3  75410000220725  51049394513918  88833280729411  2014-09-15  2014-10-04\n",
       "4  32824255130354  14360217402682  88833280729411  2012-06-12  2012-06-20"
      ]
     },
     "execution_count": 31,
     "metadata": {},
     "output_type": "execute_result"
    }
   ],
   "source": [
    "rentals_data.head()"
   ]
  },
  {
   "cell_type": "code",
   "execution_count": 32,
   "id": "d3f18788",
   "metadata": {},
   "outputs": [],
   "source": [
    "# Alternative method to the issue above using SQLAlchemy.\n",
    "\n",
    "def get_data_postgress_tabular(query_string, db_credentials):\n",
    "    connection = psycopg2.connect(\n",
    "        dbname= db_credentials[\"database\"],\n",
    "        user= db_credentials[\"username\"],\n",
    "        password=db_credentials[\"password\"],\n",
    "        host=db_credentials[\"host\"],\n",
    "        port=db_credentials[\"port\"]\n",
    "    )\n",
    "    \n",
    "    \n",
    "    \n",
    "    result = pd.read_sql(query_string, connection)\n",
    "    \n",
    "    return result"
   ]
  },
  {
   "cell_type": "code",
   "execution_count": 33,
   "id": "fcc77953",
   "metadata": {},
   "outputs": [],
   "source": [
    "query_string = \"\"\"\n",
    "SELECT * FROM borrowers\n",
    "\"\"\""
   ]
  },
  {
   "cell_type": "code",
   "execution_count": 34,
   "id": "11439399",
   "metadata": {},
   "outputs": [
    {
     "name": "stderr",
     "output_type": "stream",
     "text": [
      "C:\\Users\\all4u\\AppData\\Local\\Temp\\ipykernel_1124\\1178520926.py:14: UserWarning: pandas only supports SQLAlchemy connectable (engine/connection) or database string URI or sqlite3 DBAPI2 connection. Other DBAPI2 objects are not tested. Please consider using SQLAlchemy.\n",
      "  result = pd.read_sql(query_string, connection)\n"
     ]
    }
   ],
   "source": [
    "borrowers_data = get_data_postgress_tabular(query_string, db_credentials)"
   ]
  },
  {
   "cell_type": "code",
   "execution_count": 35,
   "id": "d472a899",
   "metadata": {},
   "outputs": [
    {
     "data": {
      "text/html": [
       "<div>\n",
       "<style scoped>\n",
       "    .dataframe tbody tr th:only-of-type {\n",
       "        vertical-align: middle;\n",
       "    }\n",
       "\n",
       "    .dataframe tbody tr th {\n",
       "        vertical-align: top;\n",
       "    }\n",
       "\n",
       "    .dataframe thead th {\n",
       "        text-align: right;\n",
       "    }\n",
       "</style>\n",
       "<table border=\"1\" class=\"dataframe\">\n",
       "  <thead>\n",
       "    <tr style=\"text-align: right;\">\n",
       "      <th></th>\n",
       "      <th>DoB</th>\n",
       "      <th>UID</th>\n",
       "      <th>address</th>\n",
       "      <th>ethnic_group</th>\n",
       "      <th>gender</th>\n",
       "      <th>join_date</th>\n",
       "    </tr>\n",
       "  </thead>\n",
       "  <tbody>\n",
       "    <tr>\n",
       "      <th>0</th>\n",
       "      <td>1964-05-26</td>\n",
       "      <td>6407399394844</td>\n",
       "      <td>M1 2</td>\n",
       "      <td>D</td>\n",
       "      <td>M</td>\n",
       "      <td>1981-08-20</td>\n",
       "    </tr>\n",
       "    <tr>\n",
       "      <th>1</th>\n",
       "      <td>1935-10-19</td>\n",
       "      <td>76509601043881</td>\n",
       "      <td>M24 4</td>\n",
       "      <td>D</td>\n",
       "      <td>M</td>\n",
       "      <td>1973-10-14</td>\n",
       "    </tr>\n",
       "    <tr>\n",
       "      <th>2</th>\n",
       "      <td>1937-03-01</td>\n",
       "      <td>6792108939008</td>\n",
       "      <td>M33 5</td>\n",
       "      <td>D</td>\n",
       "      <td>M</td>\n",
       "      <td>1974-02-25</td>\n",
       "    </tr>\n",
       "    <tr>\n",
       "      <th>3</th>\n",
       "      <td>1964-06-18</td>\n",
       "      <td>10123457846743</td>\n",
       "      <td>M5 4</td>\n",
       "      <td>F</td>\n",
       "      <td>M</td>\n",
       "      <td>1973-01-07</td>\n",
       "    </tr>\n",
       "    <tr>\n",
       "      <th>4</th>\n",
       "      <td>1968-10-24</td>\n",
       "      <td>28422585028351</td>\n",
       "      <td>M40 7</td>\n",
       "      <td>D</td>\n",
       "      <td>M</td>\n",
       "      <td>1984-10-18</td>\n",
       "    </tr>\n",
       "  </tbody>\n",
       "</table>\n",
       "</div>"
      ],
      "text/plain": [
       "          DoB             UID address ethnic_group gender   join_date\n",
       "0  1964-05-26   6407399394844    M1 2            D      M  1981-08-20\n",
       "1  1935-10-19  76509601043881   M24 4            D      M  1973-10-14\n",
       "2  1937-03-01   6792108939008   M33 5            D      M  1974-02-25\n",
       "3  1964-06-18  10123457846743    M5 4            F      M  1973-01-07\n",
       "4  1968-10-24  28422585028351   M40 7            D      M  1984-10-18"
      ]
     },
     "execution_count": 35,
     "metadata": {},
     "output_type": "execute_result"
    }
   ],
   "source": [
    "borrowers_data.head()"
   ]
  },
  {
   "cell_type": "markdown",
   "id": "867c08b4",
   "metadata": {},
   "source": [
    "#### Combine Books, Borrowers and Rentals data"
   ]
  },
  {
   "cell_type": "code",
   "execution_count": 36,
   "id": "a63ffd2d",
   "metadata": {},
   "outputs": [],
   "source": [
    "combined_query_string = \"\"\"\n",
    "select\n",
    "    r.\"UID\" as rental_uid,\n",
    "    r.book as book_uid,\n",
    "    r.borrower as borrower_uid,\n",
    "    r.\"out\" as borrowed_date,\n",
    "    r.returned as borrower_returned_date,\n",
    "    b.author as book_author,\n",
    "    b.\"length\" as book_length,\n",
    "    b.publication_date as book_publication_date,\n",
    "    b.rental_period as book_rental_date,\n",
    "    b.subject as book_subject,\n",
    "    b.title as book_title,\n",
    "    b2.\"DoB\" as borrower_date_of_birth,\n",
    "    b2.address as borrower_address,\n",
    "    b2.ethnic_group as borrower_ethnic_group,\n",
    "    b2.gender as borrower_gender,\n",
    "    b2.join_date as borrower_join_date\n",
    "from rentals r\n",
    "left join books b\n",
    "    on r.book = b.\"UID\"\n",
    "left join borrowers b2\n",
    "    on r.borrower = b2.\"UID\"\n",
    "\"\"\""
   ]
  },
  {
   "cell_type": "code",
   "execution_count": 37,
   "id": "db47eb63",
   "metadata": {},
   "outputs": [
    {
     "name": "stderr",
     "output_type": "stream",
     "text": [
      "C:\\Users\\all4u\\AppData\\Local\\Temp\\ipykernel_1124\\1178520926.py:14: UserWarning: pandas only supports SQLAlchemy connectable (engine/connection) or database string URI or sqlite3 DBAPI2 connection. Other DBAPI2 objects are not tested. Please consider using SQLAlchemy.\n",
      "  result = pd.read_sql(query_string, connection)\n"
     ]
    }
   ],
   "source": [
    "combined_data = get_data_postgress_tabular(combined_query_string, db_credentials)"
   ]
  },
  {
   "cell_type": "code",
   "execution_count": 38,
   "id": "461a4c71",
   "metadata": {},
   "outputs": [
    {
     "data": {
      "text/html": [
       "<div>\n",
       "<style scoped>\n",
       "    .dataframe tbody tr th:only-of-type {\n",
       "        vertical-align: middle;\n",
       "    }\n",
       "\n",
       "    .dataframe tbody tr th {\n",
       "        vertical-align: top;\n",
       "    }\n",
       "\n",
       "    .dataframe thead th {\n",
       "        text-align: right;\n",
       "    }\n",
       "</style>\n",
       "<table border=\"1\" class=\"dataframe\">\n",
       "  <thead>\n",
       "    <tr style=\"text-align: right;\">\n",
       "      <th></th>\n",
       "      <th>rental_uid</th>\n",
       "      <th>book_uid</th>\n",
       "      <th>borrower_uid</th>\n",
       "      <th>borrowed_date</th>\n",
       "      <th>borrower_returned_date</th>\n",
       "      <th>book_author</th>\n",
       "      <th>book_length</th>\n",
       "      <th>book_publication_date</th>\n",
       "      <th>book_rental_date</th>\n",
       "      <th>book_subject</th>\n",
       "      <th>book_title</th>\n",
       "      <th>borrower_date_of_birth</th>\n",
       "      <th>borrower_address</th>\n",
       "      <th>borrower_ethnic_group</th>\n",
       "      <th>borrower_gender</th>\n",
       "      <th>borrower_join_date</th>\n",
       "    </tr>\n",
       "  </thead>\n",
       "  <tbody>\n",
       "    <tr>\n",
       "      <th>0</th>\n",
       "      <td>76609620900561</td>\n",
       "      <td>37305790289730</td>\n",
       "      <td>88833280729411</td>\n",
       "      <td>2017-06-29</td>\n",
       "      <td>2017-07-17</td>\n",
       "      <td>Robert Acuff</td>\n",
       "      <td>362</td>\n",
       "      <td>1981-07-09</td>\n",
       "      <td>30</td>\n",
       "      <td>Teen</td>\n",
       "      <td>dachshund default partition amputate</td>\n",
       "      <td>2001-03-14</td>\n",
       "      <td>M1 3</td>\n",
       "      <td>D</td>\n",
       "      <td>F</td>\n",
       "      <td>2008-04-19</td>\n",
       "    </tr>\n",
       "    <tr>\n",
       "      <th>1</th>\n",
       "      <td>83114291920228</td>\n",
       "      <td>1253436612142</td>\n",
       "      <td>88833280729411</td>\n",
       "      <td>2009-11-29</td>\n",
       "      <td>2009-12-16</td>\n",
       "      <td>Meredith Saunders</td>\n",
       "      <td>414</td>\n",
       "      <td>1978-11-09</td>\n",
       "      <td>30</td>\n",
       "      <td>teen</td>\n",
       "      <td>phonic auspices Gaussian madmen produce expedition</td>\n",
       "      <td>2001-03-14</td>\n",
       "      <td>M1 3</td>\n",
       "      <td>D</td>\n",
       "      <td>F</td>\n",
       "      <td>2008-04-19</td>\n",
       "    </tr>\n",
       "    <tr>\n",
       "      <th>2</th>\n",
       "      <td>88537859878214</td>\n",
       "      <td>92083778372643</td>\n",
       "      <td>88833280729411</td>\n",
       "      <td>2015-05-15</td>\n",
       "      <td>2015-06-09</td>\n",
       "      <td>Hazel Law</td>\n",
       "      <td>308</td>\n",
       "      <td>1985-11-25</td>\n",
       "      <td>30</td>\n",
       "      <td>Short Stories</td>\n",
       "      <td>citron Danny foot</td>\n",
       "      <td>2001-03-14</td>\n",
       "      <td>M1 3</td>\n",
       "      <td>D</td>\n",
       "      <td>F</td>\n",
       "      <td>2008-04-19</td>\n",
       "    </tr>\n",
       "    <tr>\n",
       "      <th>3</th>\n",
       "      <td>75410000220725</td>\n",
       "      <td>51049394513918</td>\n",
       "      <td>88833280729411</td>\n",
       "      <td>2014-09-15</td>\n",
       "      <td>2014-10-04</td>\n",
       "      <td>Michael Dealba</td>\n",
       "      <td>315</td>\n",
       "      <td>1968-04-25</td>\n",
       "      <td>30</td>\n",
       "      <td>horror</td>\n",
       "      <td>sapient vivacious guillotine bushland shoal insouciant</td>\n",
       "      <td>2001-03-14</td>\n",
       "      <td>M1 3</td>\n",
       "      <td>D</td>\n",
       "      <td>F</td>\n",
       "      <td>2008-04-19</td>\n",
       "    </tr>\n",
       "    <tr>\n",
       "      <th>4</th>\n",
       "      <td>32824255130354</td>\n",
       "      <td>14360217402682</td>\n",
       "      <td>88833280729411</td>\n",
       "      <td>2012-06-12</td>\n",
       "      <td>2012-06-20</td>\n",
       "      <td>Christopher Smith</td>\n",
       "      <td>345</td>\n",
       "      <td>1974-12-19</td>\n",
       "      <td>7</td>\n",
       "      <td>fantasy</td>\n",
       "      <td>flounder blight taffeta supplicant accede</td>\n",
       "      <td>2001-03-14</td>\n",
       "      <td>M1 3</td>\n",
       "      <td>D</td>\n",
       "      <td>F</td>\n",
       "      <td>2008-04-19</td>\n",
       "    </tr>\n",
       "  </tbody>\n",
       "</table>\n",
       "</div>"
      ],
      "text/plain": [
       "       rental_uid        book_uid    borrower_uid borrowed_date  \\\n",
       "0  76609620900561  37305790289730  88833280729411    2017-06-29   \n",
       "1  83114291920228   1253436612142  88833280729411    2009-11-29   \n",
       "2  88537859878214  92083778372643  88833280729411    2015-05-15   \n",
       "3  75410000220725  51049394513918  88833280729411    2014-09-15   \n",
       "4  32824255130354  14360217402682  88833280729411    2012-06-12   \n",
       "\n",
       "  borrower_returned_date        book_author  book_length  \\\n",
       "0             2017-07-17       Robert Acuff          362   \n",
       "1             2009-12-16  Meredith Saunders          414   \n",
       "2             2015-06-09          Hazel Law          308   \n",
       "3             2014-10-04     Michael Dealba          315   \n",
       "4             2012-06-20  Christopher Smith          345   \n",
       "\n",
       "  book_publication_date  book_rental_date   book_subject  \\\n",
       "0            1981-07-09                30           Teen   \n",
       "1            1978-11-09                30           teen   \n",
       "2            1985-11-25                30  Short Stories   \n",
       "3            1968-04-25                30         horror   \n",
       "4            1974-12-19                 7        fantasy   \n",
       "\n",
       "                                               book_title  \\\n",
       "0                    dachshund default partition amputate   \n",
       "1      phonic auspices Gaussian madmen produce expedition   \n",
       "2                                       citron Danny foot   \n",
       "3  sapient vivacious guillotine bushland shoal insouciant   \n",
       "4               flounder blight taffeta supplicant accede   \n",
       "\n",
       "  borrower_date_of_birth borrower_address borrower_ethnic_group  \\\n",
       "0             2001-03-14             M1 3                     D   \n",
       "1             2001-03-14             M1 3                     D   \n",
       "2             2001-03-14             M1 3                     D   \n",
       "3             2001-03-14             M1 3                     D   \n",
       "4             2001-03-14             M1 3                     D   \n",
       "\n",
       "  borrower_gender borrower_join_date  \n",
       "0               F         2008-04-19  \n",
       "1               F         2008-04-19  \n",
       "2               F         2008-04-19  \n",
       "3               F         2008-04-19  \n",
       "4               F         2008-04-19  "
      ]
     },
     "execution_count": 38,
     "metadata": {},
     "output_type": "execute_result"
    }
   ],
   "source": [
    "combined_data.head()"
   ]
  },
  {
   "cell_type": "code",
   "execution_count": null,
   "id": "47d8e43e",
   "metadata": {},
   "outputs": [],
   "source": []
  },
  {
   "cell_type": "markdown",
   "id": "5ffe0078",
   "metadata": {},
   "source": [
    "### MS SQL Server"
   ]
  },
  {
   "cell_type": "code",
   "execution_count": 39,
   "id": "1a64e3d4",
   "metadata": {},
   "outputs": [],
   "source": [
    "import pyodbc"
   ]
  },
  {
   "cell_type": "markdown",
   "id": "a0ddb0d4",
   "metadata": {},
   "source": [
    "```python\n",
    "# For Trusted Connection:\n",
    "\n",
    "connection_string = (\n",
    "    \"Driver={SQL Server Native Client 11.0};\"\n",
    "            \"Server=Your_Server_Name;\"\n",
    "            \"Database=My_Database_Name;\"\n",
    "            \"Trusted_Connection=yes;\"\n",
    ")\n",
    "```"
   ]
  },
  {
   "cell_type": "markdown",
   "id": "7c094477",
   "metadata": {},
   "source": [
    "```python\n",
    "# For Non-Trusted Connection:\n",
    "\n",
    "connection_string = (\n",
    "    \"Driver={SQL Server Native Client 11.0};\"\n",
    "            \"Server=Your_Server_Name;\"\n",
    "            \"Database=My_Database_Name;\"\n",
    "            \"UID=Your_User_ID;\"\n",
    "            \"PWD=Your_Password;\"\n",
    ")\n",
    "```"
   ]
  },
  {
   "cell_type": "code",
   "execution_count": 40,
   "id": "de59833a",
   "metadata": {},
   "outputs": [],
   "source": [
    "# connection = pyodbc.connect(connection_string)"
   ]
  },
  {
   "cell_type": "code",
   "execution_count": 41,
   "id": "9f06183e",
   "metadata": {},
   "outputs": [],
   "source": [
    "connection_string = (\n",
    "    \"Driver={ODBC Driver 17 for SQL Server};\"\n",
    "    \"Server=datahackerman.c9gajtac8ssy.eu-west-2.rds.amazonaws.com;\"\n",
    "    \"Database=hackerman;\"\n",
    "    \"UID=admin;\"\n",
    "    \"PWD=Genesis5:24#;\"\n",
    ")"
   ]
  },
  {
   "cell_type": "code",
   "execution_count": 42,
   "id": "5b18ff0f",
   "metadata": {},
   "outputs": [],
   "source": [
    "connection = pyodbc.connect(connection_string)"
   ]
  },
  {
   "cell_type": "code",
   "execution_count": 43,
   "id": "a82e3b8f",
   "metadata": {},
   "outputs": [],
   "source": [
    "from sqlalchemy.engine import URL\n",
    "\n",
    "connection_url = URL.create(\"mssql+pyodbc\", query={\"odbc_connect\": connection_string})"
   ]
  },
  {
   "cell_type": "code",
   "execution_count": 44,
   "id": "0ba0b42b",
   "metadata": {},
   "outputs": [
    {
     "data": {
      "text/plain": [
       "mssql+pyodbc://?odbc_connect=Driver%3D%7BODBC+Driver+17+for+SQL+Server%7D%3BServer%3Ddatahackerman.c9gajtac8ssy.eu-west-2.rds.amazonaws.com%3BDatabase%3Dhackerman%3BUID%3Dadmin%3BPWD%3DGenesis5%3A24%23%3B"
      ]
     },
     "execution_count": 44,
     "metadata": {},
     "output_type": "execute_result"
    }
   ],
   "source": [
    "connection_url"
   ]
  },
  {
   "cell_type": "code",
   "execution_count": 45,
   "id": "24d9470a",
   "metadata": {},
   "outputs": [],
   "source": [
    "engine = create_engine(connection_url)"
   ]
  },
  {
   "cell_type": "code",
   "execution_count": 46,
   "id": "8a0b17dd",
   "metadata": {},
   "outputs": [
    {
     "data": {
      "text/plain": [
       "Engine(mssql+pyodbc://?odbc_connect=Driver%3D%7BODBC+Driver+17+for+SQL+Server%7D%3BServer%3Ddatahackerman.c9gajtac8ssy.eu-west-2.rds.amazonaws.com%3BDatabase%3Dhackerman%3BUID%3Dadmin%3BPWD%3DGenesis5%3A24%23%3B)"
      ]
     },
     "execution_count": 46,
     "metadata": {},
     "output_type": "execute_result"
    }
   ],
   "source": [
    "engine"
   ]
  },
  {
   "cell_type": "markdown",
   "id": "b95698cf",
   "metadata": {},
   "source": [
    "```python\n",
    "# Initilise the cursor\n",
    "cursor = connection.cursor()\n",
    "\n",
    "# Executing a SQL Query\n",
    "cursor.execute(query_string)\n",
    "```"
   ]
  },
  {
   "cell_type": "code",
   "execution_count": null,
   "id": "8964ac4e",
   "metadata": {},
   "outputs": [],
   "source": []
  },
  {
   "cell_type": "code",
   "execution_count": 47,
   "id": "f6368ca4",
   "metadata": {},
   "outputs": [
    {
     "data": {
      "text/plain": [
       "'hackerman'"
      ]
     },
     "execution_count": 47,
     "metadata": {},
     "output_type": "execute_result"
    }
   ],
   "source": [
    "db_credentials[\"username\"]"
   ]
  },
  {
   "cell_type": "code",
   "execution_count": 48,
   "id": "319c321c",
   "metadata": {},
   "outputs": [
    {
     "data": {
      "text/plain": [
       "'postgres'"
      ]
     },
     "execution_count": 48,
     "metadata": {},
     "output_type": "execute_result"
    }
   ],
   "source": [
    "new_postgres_credential[\"database\"]"
   ]
  },
  {
   "cell_type": "code",
   "execution_count": 49,
   "id": "5fb57cff",
   "metadata": {},
   "outputs": [
    {
     "data": {
      "text/plain": [
       "'mytestinginstance.c7smiokcpmcb.eu-north-1.rds.amazonaws.com'"
      ]
     },
     "execution_count": 49,
     "metadata": {},
     "output_type": "execute_result"
    }
   ],
   "source": [
    "new_postgres_credential[\"host\"]"
   ]
  },
  {
   "cell_type": "code",
   "execution_count": 50,
   "id": "da530ca9",
   "metadata": {},
   "outputs": [],
   "source": [
    "# Creating a connection\n",
    "# Connection to Dayo's database\n",
    "\n",
    "hackerman_connection = psycopg2.connect(\n",
    "        dbname=db_credentials[\"database\"],\n",
    "        user=db_credentials[\"username\"],\n",
    "        password=db_credentials[\"password\"],\n",
    "        host=db_credentials[\"host\"],\n",
    "        port=db_credentials[\"port\"]\n",
    "    )"
   ]
  },
  {
   "cell_type": "code",
   "execution_count": 51,
   "id": "e6f2ad96",
   "metadata": {},
   "outputs": [],
   "source": [
    "# Connection to own database\n",
    "new_postgres_connection = psycopg2.connect(\n",
    "        dbname=new_postgres_credential[\"database\"],\n",
    "        user=new_postgres_credential[\"username\"],\n",
    "        password=new_postgres_credential[\"password\"],\n",
    "        host=new_postgres_credential[\"host\"],\n",
    "        port=new_postgres_credential[\"port\"]\n",
    "    )"
   ]
  },
  {
   "cell_type": "code",
   "execution_count": 52,
   "id": "6b09dd5e",
   "metadata": {},
   "outputs": [],
   "source": [
    "## Checking the connection"
   ]
  },
  {
   "cell_type": "code",
   "execution_count": 53,
   "id": "044bb9fc",
   "metadata": {},
   "outputs": [
    {
     "data": {
      "text/plain": [
       "<connection object at 0x000002B109D497B0; dsn: 'user=hackerman password=xxx dbname=free_hackerman host=freetier-hackerman.c9gajtac8ssy.eu-west-2.rds.amazonaws.com port=5432', closed: 0>"
      ]
     },
     "execution_count": 53,
     "metadata": {},
     "output_type": "execute_result"
    }
   ],
   "source": [
    "hackerman_connection"
   ]
  },
  {
   "cell_type": "code",
   "execution_count": 54,
   "id": "b53d7b39",
   "metadata": {},
   "outputs": [
    {
     "data": {
      "text/plain": [
       "<connection object at 0x000002B109D498C0; dsn: 'user=postgres1 password=xxx dbname=postgres host=mytestinginstance.c7smiokcpmcb.eu-north-1.rds.amazonaws.com port=5432', closed: 0>"
      ]
     },
     "execution_count": 54,
     "metadata": {},
     "output_type": "execute_result"
    }
   ],
   "source": [
    "new_postgres_connection"
   ]
  },
  {
   "cell_type": "code",
   "execution_count": 55,
   "id": "9dad463a",
   "metadata": {},
   "outputs": [],
   "source": [
    "hackerman_cur = hackerman_connection.cursor()"
   ]
  },
  {
   "cell_type": "code",
   "execution_count": 56,
   "id": "b61a024b",
   "metadata": {},
   "outputs": [],
   "source": [
    "hackerman_cur.execute(\"SELECT * FROM Books LIMIT 5;\")"
   ]
  },
  {
   "cell_type": "code",
   "execution_count": 57,
   "id": "4b581c17",
   "metadata": {},
   "outputs": [
    {
     "data": {
      "text/plain": [
       "(81490378501273,\n",
       " 'Leslie Godwin',\n",
       " 292,\n",
       " '1985-11-30',\n",
       " 7,\n",
       " 'Religious',\n",
       " 'wispy Hiawatha Midwestern prolix sanitarium aloe')"
      ]
     },
     "execution_count": 57,
     "metadata": {},
     "output_type": "execute_result"
    }
   ],
   "source": [
    "hackerman_cur.fetchone()"
   ]
  },
  {
   "cell_type": "code",
   "execution_count": 58,
   "id": "2523353e",
   "metadata": {},
   "outputs": [],
   "source": [
    "from sqlalchemy.engine import URL\n",
    "\n",
    "hackerman_url_object = URL.create(\n",
    "    \"postgresql+psycopg2\",\n",
    "    username=db_credentials[\"username\"],\n",
    "    password=db_credentials[\"password\"],\n",
    "    host=db_credentials[\"host\"],\n",
    "    database=db_credentials[\"database\"],\n",
    "    port=db_credentials[\"port\"]\n",
    ")"
   ]
  },
  {
   "cell_type": "code",
   "execution_count": 59,
   "id": "31bcc603",
   "metadata": {},
   "outputs": [],
   "source": [
    "engine = create_engine(hackerman_url_object)"
   ]
  },
  {
   "cell_type": "code",
   "execution_count": 60,
   "id": "9e6e8528",
   "metadata": {},
   "outputs": [],
   "source": [
    "query_string = \"\"\"\n",
    "SELECT * FROM rentals\n",
    "\"\"\""
   ]
  },
  {
   "cell_type": "code",
   "execution_count": 61,
   "id": "343505c0",
   "metadata": {},
   "outputs": [],
   "source": [
    "combined_query_string = \"\"\"\n",
    "select\n",
    "    r.\"UID\" as rental_uid,\n",
    "    r.book as book_uid,\n",
    "    r.borrower as borrower_uid,\n",
    "    r.\"out\" as borrowed_date,\n",
    "    r.returned as borrower_returned_date,\n",
    "    b.author as book_author,\n",
    "    b.\"length\" as book_length,\n",
    "    b.publication_date as book_publication_date,\n",
    "    b.rental_period as book_rental_date,\n",
    "    b.subject as book_subject,\n",
    "    b.title as book_title,\n",
    "    b2.\"DoB\" as borrower_date_of_birth,\n",
    "    b2.address as borrower_address,\n",
    "    b2.ethnic_group as borrower_ethnic_group,\n",
    "    b2.gender as borrower_gender,\n",
    "    b2.join_date as borrower_join_date\n",
    "from rentals r\n",
    "left join books b\n",
    "    on r.book = b.\"UID\"\n",
    "left join borrowers b2\n",
    "    on r.borrower = b2.\"UID\"\n",
    "\"\"\"\n",
    "from sqlalchemy.engine import URL\n",
    "from sqlalchemy.sql import text\n",
    "\n",
    "hackerman_url_object = URL.create(\n",
    "    \"postgresql+psycopg2\",\n",
    "    username=db_credentials[\"username\"],\n",
    "    password=db_credentials[\"password\"],\n",
    "    host=db_credentials[\"host\"],\n",
    "    database=db_credentials[\"database\"],\n",
    "    port=db_credentials[\"port\"]\n",
    ")\n",
    "\n",
    "engine = create_engine(hackerman_url_object)\n",
    "\n",
    "with engine.connect().execution_options(autocommit=True) as dh_connection:\n",
    "    # df = pd.read_sql(f\"\"\"SELECT * FROM table_name WHERE condition\"\"\", con = conn)\n",
    "    combined_data = pd.read_sql(text(combined_query_string), dh_connection)"
   ]
  },
  {
   "cell_type": "code",
   "execution_count": 62,
   "id": "d6d57ff7",
   "metadata": {},
   "outputs": [
    {
     "data": {
      "text/html": [
       "<div>\n",
       "<style scoped>\n",
       "    .dataframe tbody tr th:only-of-type {\n",
       "        vertical-align: middle;\n",
       "    }\n",
       "\n",
       "    .dataframe tbody tr th {\n",
       "        vertical-align: top;\n",
       "    }\n",
       "\n",
       "    .dataframe thead th {\n",
       "        text-align: right;\n",
       "    }\n",
       "</style>\n",
       "<table border=\"1\" class=\"dataframe\">\n",
       "  <thead>\n",
       "    <tr style=\"text-align: right;\">\n",
       "      <th></th>\n",
       "      <th>rental_uid</th>\n",
       "      <th>book_uid</th>\n",
       "      <th>borrower_uid</th>\n",
       "      <th>borrowed_date</th>\n",
       "      <th>borrower_returned_date</th>\n",
       "      <th>book_author</th>\n",
       "      <th>book_length</th>\n",
       "      <th>book_publication_date</th>\n",
       "      <th>book_rental_date</th>\n",
       "      <th>book_subject</th>\n",
       "      <th>book_title</th>\n",
       "      <th>borrower_date_of_birth</th>\n",
       "      <th>borrower_address</th>\n",
       "      <th>borrower_ethnic_group</th>\n",
       "      <th>borrower_gender</th>\n",
       "      <th>borrower_join_date</th>\n",
       "    </tr>\n",
       "  </thead>\n",
       "  <tbody>\n",
       "    <tr>\n",
       "      <th>0</th>\n",
       "      <td>76609620900561</td>\n",
       "      <td>37305790289730</td>\n",
       "      <td>88833280729411</td>\n",
       "      <td>2017-06-29</td>\n",
       "      <td>2017-07-17</td>\n",
       "      <td>Robert Acuff</td>\n",
       "      <td>362</td>\n",
       "      <td>1981-07-09</td>\n",
       "      <td>30</td>\n",
       "      <td>Teen</td>\n",
       "      <td>dachshund default partition amputate</td>\n",
       "      <td>2001-03-14</td>\n",
       "      <td>M1 3</td>\n",
       "      <td>D</td>\n",
       "      <td>F</td>\n",
       "      <td>2008-04-19</td>\n",
       "    </tr>\n",
       "  </tbody>\n",
       "</table>\n",
       "</div>"
      ],
      "text/plain": [
       "       rental_uid        book_uid    borrower_uid borrowed_date  \\\n",
       "0  76609620900561  37305790289730  88833280729411    2017-06-29   \n",
       "\n",
       "  borrower_returned_date   book_author  book_length book_publication_date  \\\n",
       "0             2017-07-17  Robert Acuff          362            1981-07-09   \n",
       "\n",
       "   book_rental_date book_subject                            book_title  \\\n",
       "0                30         Teen  dachshund default partition amputate   \n",
       "\n",
       "  borrower_date_of_birth borrower_address borrower_ethnic_group  \\\n",
       "0             2001-03-14             M1 3                     D   \n",
       "\n",
       "  borrower_gender borrower_join_date  \n",
       "0               F         2008-04-19  "
      ]
     },
     "execution_count": 62,
     "metadata": {},
     "output_type": "execute_result"
    }
   ],
   "source": [
    "combined_data.head(1)"
   ]
  },
  {
   "cell_type": "code",
   "execution_count": null,
   "id": "5f05f379",
   "metadata": {},
   "outputs": [],
   "source": []
  },
  {
   "cell_type": "markdown",
   "id": "dc04fa06",
   "metadata": {},
   "source": [
    "## Writing Data to Database"
   ]
  },
  {
   "cell_type": "code",
   "execution_count": 63,
   "id": "7b661324",
   "metadata": {},
   "outputs": [
    {
     "data": {
      "text/plain": [
       "100"
      ]
     },
     "execution_count": 63,
     "metadata": {},
     "output_type": "execute_result"
    }
   ],
   "source": [
    "from sqlalchemy.engine import URL\n",
    "from sqlalchemy.sql import text\n",
    "\n",
    "new_hackerman_url_object = URL.create(\n",
    "    \"postgresql+psycopg2\",\n",
    "    username=new_postgres_credential[\"username\"],\n",
    "    password=new_postgres_credential[\"password\"],\n",
    "    host=new_postgres_credential[\"host\"],\n",
    "    database=new_postgres_credential[\"database\"],\n",
    "    port=new_postgres_credential[\"port\"]\n",
    ")\n",
    "\n",
    "engine = create_engine(new_hackerman_url_object)\n",
    "\n",
    "combined_data.head(100).to_sql(\"rental_details_another\", con=engine, schema=\"public\", if_exists='replace', index=False, chunksize=1000)"
   ]
  },
  {
   "cell_type": "code",
   "execution_count": 64,
   "id": "6ac8a8b6",
   "metadata": {},
   "outputs": [],
   "source": [
    "combined_query_string = \"\"\"\n",
    "select * from rental_details_another\n",
    "\"\"\"\n",
    "\n",
    "with engine.connect().execution_options(autocommit=True) as dh_connection:\n",
    "    new_combined_data = pd.read_sql(text(combined_query_string), dh_connection)"
   ]
  },
  {
   "cell_type": "code",
   "execution_count": 65,
   "id": "921f2a77",
   "metadata": {},
   "outputs": [
    {
     "data": {
      "text/html": [
       "<div>\n",
       "<style scoped>\n",
       "    .dataframe tbody tr th:only-of-type {\n",
       "        vertical-align: middle;\n",
       "    }\n",
       "\n",
       "    .dataframe tbody tr th {\n",
       "        vertical-align: top;\n",
       "    }\n",
       "\n",
       "    .dataframe thead th {\n",
       "        text-align: right;\n",
       "    }\n",
       "</style>\n",
       "<table border=\"1\" class=\"dataframe\">\n",
       "  <thead>\n",
       "    <tr style=\"text-align: right;\">\n",
       "      <th></th>\n",
       "      <th>rental_uid</th>\n",
       "      <th>book_uid</th>\n",
       "      <th>borrower_uid</th>\n",
       "      <th>borrowed_date</th>\n",
       "      <th>borrower_returned_date</th>\n",
       "      <th>book_author</th>\n",
       "      <th>book_length</th>\n",
       "      <th>book_publication_date</th>\n",
       "      <th>book_rental_date</th>\n",
       "      <th>book_subject</th>\n",
       "      <th>book_title</th>\n",
       "      <th>borrower_date_of_birth</th>\n",
       "      <th>borrower_address</th>\n",
       "      <th>borrower_ethnic_group</th>\n",
       "      <th>borrower_gender</th>\n",
       "      <th>borrower_join_date</th>\n",
       "    </tr>\n",
       "  </thead>\n",
       "  <tbody>\n",
       "    <tr>\n",
       "      <th>0</th>\n",
       "      <td>76609620900561</td>\n",
       "      <td>37305790289730</td>\n",
       "      <td>88833280729411</td>\n",
       "      <td>2017-06-29</td>\n",
       "      <td>2017-07-17</td>\n",
       "      <td>Robert Acuff</td>\n",
       "      <td>362</td>\n",
       "      <td>1981-07-09</td>\n",
       "      <td>30</td>\n",
       "      <td>Teen</td>\n",
       "      <td>dachshund default partition amputate</td>\n",
       "      <td>2001-03-14</td>\n",
       "      <td>M1 3</td>\n",
       "      <td>D</td>\n",
       "      <td>F</td>\n",
       "      <td>2008-04-19</td>\n",
       "    </tr>\n",
       "    <tr>\n",
       "      <th>1</th>\n",
       "      <td>83114291920228</td>\n",
       "      <td>1253436612142</td>\n",
       "      <td>88833280729411</td>\n",
       "      <td>2009-11-29</td>\n",
       "      <td>2009-12-16</td>\n",
       "      <td>Meredith Saunders</td>\n",
       "      <td>414</td>\n",
       "      <td>1978-11-09</td>\n",
       "      <td>30</td>\n",
       "      <td>teen</td>\n",
       "      <td>phonic auspices Gaussian madmen produce expedition</td>\n",
       "      <td>2001-03-14</td>\n",
       "      <td>M1 3</td>\n",
       "      <td>D</td>\n",
       "      <td>F</td>\n",
       "      <td>2008-04-19</td>\n",
       "    </tr>\n",
       "    <tr>\n",
       "      <th>2</th>\n",
       "      <td>88537859878214</td>\n",
       "      <td>92083778372643</td>\n",
       "      <td>88833280729411</td>\n",
       "      <td>2015-05-15</td>\n",
       "      <td>2015-06-09</td>\n",
       "      <td>Hazel Law</td>\n",
       "      <td>308</td>\n",
       "      <td>1985-11-25</td>\n",
       "      <td>30</td>\n",
       "      <td>Short Stories</td>\n",
       "      <td>citron Danny foot</td>\n",
       "      <td>2001-03-14</td>\n",
       "      <td>M1 3</td>\n",
       "      <td>D</td>\n",
       "      <td>F</td>\n",
       "      <td>2008-04-19</td>\n",
       "    </tr>\n",
       "    <tr>\n",
       "      <th>3</th>\n",
       "      <td>75410000220725</td>\n",
       "      <td>51049394513918</td>\n",
       "      <td>88833280729411</td>\n",
       "      <td>2014-09-15</td>\n",
       "      <td>2014-10-04</td>\n",
       "      <td>Michael Dealba</td>\n",
       "      <td>315</td>\n",
       "      <td>1968-04-25</td>\n",
       "      <td>30</td>\n",
       "      <td>horror</td>\n",
       "      <td>sapient vivacious guillotine bushland shoal insouciant</td>\n",
       "      <td>2001-03-14</td>\n",
       "      <td>M1 3</td>\n",
       "      <td>D</td>\n",
       "      <td>F</td>\n",
       "      <td>2008-04-19</td>\n",
       "    </tr>\n",
       "    <tr>\n",
       "      <th>4</th>\n",
       "      <td>32824255130354</td>\n",
       "      <td>14360217402682</td>\n",
       "      <td>88833280729411</td>\n",
       "      <td>2012-06-12</td>\n",
       "      <td>2012-06-20</td>\n",
       "      <td>Christopher Smith</td>\n",
       "      <td>345</td>\n",
       "      <td>1974-12-19</td>\n",
       "      <td>7</td>\n",
       "      <td>fantasy</td>\n",
       "      <td>flounder blight taffeta supplicant accede</td>\n",
       "      <td>2001-03-14</td>\n",
       "      <td>M1 3</td>\n",
       "      <td>D</td>\n",
       "      <td>F</td>\n",
       "      <td>2008-04-19</td>\n",
       "    </tr>\n",
       "    <tr>\n",
       "      <th>5</th>\n",
       "      <td>27743244165755</td>\n",
       "      <td>8395905212896</td>\n",
       "      <td>88833280729411</td>\n",
       "      <td>2013-09-17</td>\n",
       "      <td>2013-09-24</td>\n",
       "      <td>Dean Davis</td>\n",
       "      <td>180</td>\n",
       "      <td>1965-01-07</td>\n",
       "      <td>7</td>\n",
       "      <td>POP SCIENCE</td>\n",
       "      <td>corrigible extroversion Grimm joggle</td>\n",
       "      <td>2001-03-14</td>\n",
       "      <td>M1 3</td>\n",
       "      <td>D</td>\n",
       "      <td>F</td>\n",
       "      <td>2008-04-19</td>\n",
       "    </tr>\n",
       "    <tr>\n",
       "      <th>6</th>\n",
       "      <td>74758358433492</td>\n",
       "      <td>55222900491105</td>\n",
       "      <td>88833280729411</td>\n",
       "      <td>2015-05-10</td>\n",
       "      <td>2015-06-07</td>\n",
       "      <td>Charles Coffin</td>\n",
       "      <td>449</td>\n",
       "      <td>1926-06-23</td>\n",
       "      <td>30</td>\n",
       "      <td>POP SCIENCE</td>\n",
       "      <td>criteria substantiate Pickett bullet savvy</td>\n",
       "      <td>2001-03-14</td>\n",
       "      <td>M1 3</td>\n",
       "      <td>D</td>\n",
       "      <td>F</td>\n",
       "      <td>2008-04-19</td>\n",
       "    </tr>\n",
       "    <tr>\n",
       "      <th>7</th>\n",
       "      <td>80552630917389</td>\n",
       "      <td>94850060106421</td>\n",
       "      <td>88833280729411</td>\n",
       "      <td>2014-07-23</td>\n",
       "      <td>2014-08-19</td>\n",
       "      <td>Donna Carroll</td>\n",
       "      <td>694</td>\n",
       "      <td>2013-01-07</td>\n",
       "      <td>30</td>\n",
       "      <td>teen</td>\n",
       "      <td>constituent upheaval Laramie</td>\n",
       "      <td>2001-03-14</td>\n",
       "      <td>M1 3</td>\n",
       "      <td>D</td>\n",
       "      <td>F</td>\n",
       "      <td>2008-04-19</td>\n",
       "    </tr>\n",
       "    <tr>\n",
       "      <th>8</th>\n",
       "      <td>59319216887299</td>\n",
       "      <td>74536758781546</td>\n",
       "      <td>88833280729411</td>\n",
       "      <td>2008-10-18</td>\n",
       "      <td>2008-11-11</td>\n",
       "      <td>Elliot Heston</td>\n",
       "      <td>51</td>\n",
       "      <td>1934-04-22</td>\n",
       "      <td>30</td>\n",
       "      <td>LANGUAGES</td>\n",
       "      <td>indomitable Texan pea gracious Del fluke</td>\n",
       "      <td>2001-03-14</td>\n",
       "      <td>M1 3</td>\n",
       "      <td>D</td>\n",
       "      <td>F</td>\n",
       "      <td>2008-04-19</td>\n",
       "    </tr>\n",
       "    <tr>\n",
       "      <th>9</th>\n",
       "      <td>10291516659073</td>\n",
       "      <td>44946570298082</td>\n",
       "      <td>88833280729411</td>\n",
       "      <td>2010-10-20</td>\n",
       "      <td>2010-10-27</td>\n",
       "      <td>Eric Kendall</td>\n",
       "      <td>327</td>\n",
       "      <td>1991-08-29</td>\n",
       "      <td>7</td>\n",
       "      <td>short stories</td>\n",
       "      <td>carnage occipital bunkmate Felicia landau</td>\n",
       "      <td>2001-03-14</td>\n",
       "      <td>M1 3</td>\n",
       "      <td>D</td>\n",
       "      <td>F</td>\n",
       "      <td>2008-04-19</td>\n",
       "    </tr>\n",
       "  </tbody>\n",
       "</table>\n",
       "</div>"
      ],
      "text/plain": [
       "       rental_uid        book_uid    borrower_uid borrowed_date  \\\n",
       "0  76609620900561  37305790289730  88833280729411    2017-06-29   \n",
       "1  83114291920228   1253436612142  88833280729411    2009-11-29   \n",
       "2  88537859878214  92083778372643  88833280729411    2015-05-15   \n",
       "3  75410000220725  51049394513918  88833280729411    2014-09-15   \n",
       "4  32824255130354  14360217402682  88833280729411    2012-06-12   \n",
       "5  27743244165755   8395905212896  88833280729411    2013-09-17   \n",
       "6  74758358433492  55222900491105  88833280729411    2015-05-10   \n",
       "7  80552630917389  94850060106421  88833280729411    2014-07-23   \n",
       "8  59319216887299  74536758781546  88833280729411    2008-10-18   \n",
       "9  10291516659073  44946570298082  88833280729411    2010-10-20   \n",
       "\n",
       "  borrower_returned_date        book_author  book_length  \\\n",
       "0             2017-07-17       Robert Acuff          362   \n",
       "1             2009-12-16  Meredith Saunders          414   \n",
       "2             2015-06-09          Hazel Law          308   \n",
       "3             2014-10-04     Michael Dealba          315   \n",
       "4             2012-06-20  Christopher Smith          345   \n",
       "5             2013-09-24         Dean Davis          180   \n",
       "6             2015-06-07     Charles Coffin          449   \n",
       "7             2014-08-19      Donna Carroll          694   \n",
       "8             2008-11-11      Elliot Heston           51   \n",
       "9             2010-10-27       Eric Kendall          327   \n",
       "\n",
       "  book_publication_date  book_rental_date   book_subject  \\\n",
       "0            1981-07-09                30           Teen   \n",
       "1            1978-11-09                30           teen   \n",
       "2            1985-11-25                30  Short Stories   \n",
       "3            1968-04-25                30         horror   \n",
       "4            1974-12-19                 7        fantasy   \n",
       "5            1965-01-07                 7    POP SCIENCE   \n",
       "6            1926-06-23                30    POP SCIENCE   \n",
       "7            2013-01-07                30           teen   \n",
       "8            1934-04-22                30      LANGUAGES   \n",
       "9            1991-08-29                 7  short stories   \n",
       "\n",
       "                                               book_title  \\\n",
       "0                    dachshund default partition amputate   \n",
       "1      phonic auspices Gaussian madmen produce expedition   \n",
       "2                                       citron Danny foot   \n",
       "3  sapient vivacious guillotine bushland shoal insouciant   \n",
       "4               flounder blight taffeta supplicant accede   \n",
       "5                    corrigible extroversion Grimm joggle   \n",
       "6              criteria substantiate Pickett bullet savvy   \n",
       "7                            constituent upheaval Laramie   \n",
       "8                indomitable Texan pea gracious Del fluke   \n",
       "9               carnage occipital bunkmate Felicia landau   \n",
       "\n",
       "  borrower_date_of_birth borrower_address borrower_ethnic_group  \\\n",
       "0             2001-03-14             M1 3                     D   \n",
       "1             2001-03-14             M1 3                     D   \n",
       "2             2001-03-14             M1 3                     D   \n",
       "3             2001-03-14             M1 3                     D   \n",
       "4             2001-03-14             M1 3                     D   \n",
       "5             2001-03-14             M1 3                     D   \n",
       "6             2001-03-14             M1 3                     D   \n",
       "7             2001-03-14             M1 3                     D   \n",
       "8             2001-03-14             M1 3                     D   \n",
       "9             2001-03-14             M1 3                     D   \n",
       "\n",
       "  borrower_gender borrower_join_date  \n",
       "0               F         2008-04-19  \n",
       "1               F         2008-04-19  \n",
       "2               F         2008-04-19  \n",
       "3               F         2008-04-19  \n",
       "4               F         2008-04-19  \n",
       "5               F         2008-04-19  \n",
       "6               F         2008-04-19  \n",
       "7               F         2008-04-19  \n",
       "8               F         2008-04-19  \n",
       "9               F         2008-04-19  "
      ]
     },
     "execution_count": 65,
     "metadata": {},
     "output_type": "execute_result"
    }
   ],
   "source": [
    "new_combined_data.head(10)"
   ]
  },
  {
   "cell_type": "code",
   "execution_count": null,
   "id": "1db3fa18",
   "metadata": {},
   "outputs": [],
   "source": []
  },
  {
   "cell_type": "code",
   "execution_count": null,
   "id": "aa0113b9",
   "metadata": {},
   "outputs": [],
   "source": []
  }
 ],
 "metadata": {
  "kernelspec": {
   "display_name": "Python 3 (ipykernel)",
   "language": "python",
   "name": "python3"
  },
  "language_info": {
   "codemirror_mode": {
    "name": "ipython",
    "version": 3
   },
   "file_extension": ".py",
   "mimetype": "text/x-python",
   "name": "python",
   "nbconvert_exporter": "python",
   "pygments_lexer": "ipython3",
   "version": "3.9.16"
  }
 },
 "nbformat": 4,
 "nbformat_minor": 5
}
